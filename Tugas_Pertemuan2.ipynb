{
  "nbformat": 4,
  "nbformat_minor": 0,
  "metadata": {
    "colab": {
      "provenance": [],
      "authorship_tag": "ABX9TyMrcR6dKloD/bZppUnGZi9y",
      "include_colab_link": true
    },
    "kernelspec": {
      "name": "python3",
      "display_name": "Python 3"
    },
    "language_info": {
      "name": "python"
    }
  },
  "cells": [
    {
      "cell_type": "markdown",
      "metadata": {
        "id": "view-in-github",
        "colab_type": "text"
      },
      "source": [
        "<a href=\"https://colab.research.google.com/github/TantriSeptiana/Pemerograman-Dasar/blob/main/Tugas_Pertemuan2.ipynb\" target=\"_parent\"><img src=\"https://colab.research.google.com/assets/colab-badge.svg\" alt=\"Open In Colab\"/></a>"
      ]
    },
    {
      "cell_type": "code",
      "execution_count": 1,
      "metadata": {
        "colab": {
          "base_uri": "https://localhost:8080/"
        },
        "id": "zmb_BMZndhOX",
        "outputId": "a7618ab7-ed14-4d86-a14e-c889ee6f11fd"
      },
      "outputs": [
        {
          "output_type": "stream",
          "name": "stdout",
          "text": [
            "<class 'str'>\n",
            "<class 'str'>\n",
            "<class 'int'>\n",
            "<class 'bool'>\n"
          ]
        }
      ],
      "source": [
        "firstName = \"Tantri\"\n",
        "lastName = \"Salsabilla\"\n",
        "age = 21\n",
        "isMarried = False\n",
        "\n",
        "print(type(firstName))\n",
        "print(type(lastName))\n",
        "print(type(age))\n",
        "print(type(isMarried))"
      ]
    },
    {
      "cell_type": "code",
      "source": [
        "data_diri = {\"firstName\": \"Tantri\", \"lastName\": \"Salsabilla\", \"age\": 21, \"isMarried\": False}\n",
        "\n",
        "print(type(firstName))\n",
        "print(type(lastName))\n",
        "print(type(age))\n",
        "print(type(isMarried))"
      ],
      "metadata": {
        "colab": {
          "base_uri": "https://localhost:8080/"
        },
        "id": "1wRFKC2CnPjP",
        "outputId": "c2a3908c-7e9e-4a0c-a444-77e20b12649a"
      },
      "execution_count": 2,
      "outputs": [
        {
          "output_type": "stream",
          "name": "stdout",
          "text": [
            "<class 'str'>\n",
            "<class 'str'>\n",
            "<class 'int'>\n",
            "<class 'bool'>\n"
          ]
        }
      ]
    },
    {
      "cell_type": "code",
      "source": [
        "inspeksi = [\"pemahaman terhadap rencana dan desain\", \"ketersediaan bahan dan peralatan\", \"pengawasan pekerjaan\", \"kualitas konstruksi\", \"keselamatan kerja\", \"koordinasi dengan pemilik proyek\"]\n",
        "\n",
        "print(type(inspeksi))\n",
        "print(inspeksi[0])\n",
        "print(inspeksi[1])\n",
        "print(inspeksi[2])\n",
        "print(inspeksi[3])\n",
        "print(inspeksi[4])\n",
        "print(inspeksi[5])"
      ],
      "metadata": {
        "colab": {
          "base_uri": "https://localhost:8080/"
        },
        "id": "7uSBOHuLqkbZ",
        "outputId": "11f5ddef-884a-4c35-8309-41889d95cc30"
      },
      "execution_count": 3,
      "outputs": [
        {
          "output_type": "stream",
          "name": "stdout",
          "text": [
            "<class 'list'>\n",
            "pemahaman terhadap rencana dan desain\n",
            "ketersediaan bahan dan peralatan\n",
            "pengawasan pekerjaan\n",
            "kualitas konstruksi\n",
            "keselamatan kerja\n",
            "koordinasi dengan pemilik proyek\n"
          ]
        }
      ]
    },
    {
      "cell_type": "code",
      "source": [
        "startTime = {\"HH\": 9, \"mm\": 23, \"ss\": 57}\n",
        "print(type(startTime))\n",
        "print(startTime[\"HH\"])\n",
        "print(startTime[\"mm\"])\n",
        "print(startTime[\"ss\"])\n",
        "\n",
        "endTime = {\"HH\": 15, \"mm\": 25, \"ss\": 43}\n",
        "print(type(endTime))\n",
        "print(endTime[\"HH\"])\n",
        "print(endTime[\"mm\"])\n",
        "print(endTime[\"ss\"])"
      ],
      "metadata": {
        "colab": {
          "base_uri": "https://localhost:8080/"
        },
        "id": "QblgGtbEsR43",
        "outputId": "6df005d0-6889-4720-a3eb-9d16d56a1245"
      },
      "execution_count": 4,
      "outputs": [
        {
          "output_type": "stream",
          "name": "stdout",
          "text": [
            "<class 'dict'>\n",
            "9\n",
            "23\n",
            "57\n",
            "<class 'dict'>\n",
            "15\n",
            "25\n",
            "43\n"
          ]
        }
      ]
    },
    {
      "cell_type": "code",
      "source": [
        "katalog_A = {\"Kalung\", \"Gelang\", \"Cincin\", \"Anting\"}\n",
        "katalog_B = {\"Totebag\", \"Flatshoes\", \"Dompet\", \"Hijab\"}\n",
        "\n",
        "produk_diskon = (\"Kalung\", \"Flatshoes\", \"Cincin\")\n",
        "\n",
        "katalog_lengkap = katalog_A.union(katalog_B)\n",
        "\n",
        "produk_promo_aktif = katalog_lengkap.intersection(produk_diskon)\n",
        "\n",
        "print(katalog_lengkap)\n",
        "print(produk_diskon)\n",
        "print(produk_promo_aktif)"
      ],
      "metadata": {
        "colab": {
          "base_uri": "https://localhost:8080/"
        },
        "id": "7vtnaKWEtLtY",
        "outputId": "12299bea-37bf-42cd-f93b-a7940354787e"
      },
      "execution_count": 27,
      "outputs": [
        {
          "output_type": "stream",
          "name": "stdout",
          "text": [
            "{'Gelang', 'Flatshoes', 'Kalung', 'Hijab', 'Totebag', 'Cincin', 'Dompet', 'Anting'}\n",
            "('Kalung', 'Flatshoes', 'Cincin')\n",
            "{'Flatshoes', 'Kalung', 'Cincin'}\n"
          ]
        }
      ]
    }
  ]
}