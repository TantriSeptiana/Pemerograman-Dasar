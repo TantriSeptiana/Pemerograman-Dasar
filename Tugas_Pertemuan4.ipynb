{
  "nbformat": 4,
  "nbformat_minor": 0,
  "metadata": {
    "colab": {
      "provenance": [],
      "authorship_tag": "ABX9TyMEk00DOOla5Mq7eqsclXF9",
      "include_colab_link": true
    },
    "kernelspec": {
      "name": "python3",
      "display_name": "Python 3"
    },
    "language_info": {
      "name": "python"
    }
  },
  "cells": [
    {
      "cell_type": "markdown",
      "metadata": {
        "id": "view-in-github",
        "colab_type": "text"
      },
      "source": [
        "<a href=\"https://colab.research.google.com/github/TantriSeptiana/Pemerograman-Dasar/blob/main/Tugas_Pertemuan4.ipynb\" target=\"_parent\"><img src=\"https://colab.research.google.com/assets/colab-badge.svg\" alt=\"Open In Colab\"/></a>"
      ]
    },
    {
      "cell_type": "code",
      "execution_count": null,
      "metadata": {
        "colab": {
          "base_uri": "https://localhost:8080/"
        },
        "id": "RNqbWeuhIGD-",
        "outputId": "8c7847a6-e333-4f8e-d603-3b0095da74c7"
      },
      "outputs": [
        {
          "output_type": "stream",
          "name": "stdout",
          "text": [
            "===================================\n",
            "SELAMAT DATANG DI KAFE GEMINI\n",
            "===================================\n",
            "Menu Makanan & Minuman:\n",
            "1. Es Teh           - Rp 8.000\n",
            "2. Roti Bakar       - Rp 15.000\n",
            "3. Nasi Goreng      - Rp 20.000\n",
            "4. Jus Alpukat      - Rp 18.000\n",
            "5. Chicken Katsu    - Rp 25.000\n",
            "===================================\n",
            "Pilih menu pertama: 3\n",
            "Jumlah pesanan pertama: 2\n",
            "Pilih menu kedua: 1\n",
            "Jumlah pesanan kedua: 2\n",
            "\n",
            "======== STRUK PEMBAYARAN ========\n",
            "Nasi Goreng  x2  = Rp40000\n",
            "Es Teh       x2  = Rp16000\n",
            "-----------------------------------\n",
            "Total Harga   : Rp56000\n",
            "Diskon (30%) : Rp16800.0\n",
            "Total Bayar   : Rp39200.0\n",
            "-----------------------------------\n",
            "Masukkan uang pembayaran: Rp 100000\n",
            "Kembalian               : Rp60800.0\n",
            "Terima kasih telah berbelanja di Kafe Gemini!\n"
          ]
        }
      ],
      "source": [
        "print(\"=\"*35)\n",
        "print(\"SELAMAT DATANG DI KAFE GEMINI\")\n",
        "print(\"=\"*35)\n",
        "print(\"Menu Makanan & Minuman:\")\n",
        "print(\"1. Es Teh           - Rp 8.000\")\n",
        "print(\"2. Roti Bakar       - Rp 15.000\")\n",
        "print(\"3. Nasi Goreng      - Rp 20.000\")\n",
        "print(\"4. Jus Alpukat      - Rp 18.000\")\n",
        "print(\"5. Chicken Katsu    - Rp 25.000\")\n",
        "print(\"=\"*35)\n",
        "\n",
        "menu1 = int(input(\"Pilih menu pertama: \"))\n",
        "jumlah1 = int(input(\"Jumlah pesanan pertama: \"))\n",
        "\n",
        "if menu1 == 1:\n",
        "    nama1, harga1 = \"Es Teh\", 8000\n",
        "elif menu1 == 2:\n",
        "    nama1, harga1 = \"Roti Bakar\", 15000\n",
        "elif menu1 == 3:\n",
        "    nama1, harga1 = \"Nasi Goreng\", 20000\n",
        "elif menu1 == 4:\n",
        "    nama1, harga1 = \"Jus Alpukat\", 18000\n",
        "elif menu1 == 5:\n",
        "    nama1, harga1 = \"Chicken Katsu\", 25000\n",
        "else:\n",
        "    print(\"Menu pertama tidak valid!\")\n",
        "    exit()\n",
        "\n",
        "menu2 = int(input(\"Pilih menu kedua: \"))\n",
        "jumlah2 = int(input(\"Jumlah pesanan kedua: \"))\n",
        "\n",
        "if menu2 == 1:\n",
        "    nama2, harga2 = \"Es Teh\", 8000\n",
        "elif menu2 == 2:\n",
        "    nama2, harga2 = \"Roti Bakar\", 15000\n",
        "elif menu2 == 3:\n",
        "    nama2, harga2 = \"Nasi Goreng\", 20000\n",
        "elif menu2 == 4:\n",
        "    nama2, harga2 = \"Jus Alpukat\", 18000\n",
        "elif menu2 == 5:\n",
        "    nama2, harga2 = \"Chicken Katsu\", 25000\n",
        "else:\n",
        "    print(\"Menu kedua tidak valid!\")\n",
        "    exit()\n",
        "\n",
        "total1 = harga1 * jumlah1\n",
        "total2 = harga2 * jumlah2\n",
        "total_harga = total1 + total2\n",
        "\n",
        "# Hitung diskon berdasarkan total belanja\n",
        "diskon = 0\n",
        "if total_harga >= 100000:\n",
        "    diskon = 0.7\n",
        "elif total_harga >= 70000:\n",
        "    diskon = 0.5\n",
        "elif total_harga >= 50000:\n",
        "    diskon = 0.3\n",
        "else:\n",
        "    diskon = 0\n",
        "\n",
        "besar_diskon = total_harga * diskon\n",
        "total_bayar = total_harga - besar_diskon\n",
        "\n",
        "print(\"\\n======== STRUK PEMBAYARAN ========\")\n",
        "print(f\"{nama1:12} x{jumlah1:<2} = Rp{total1}\")\n",
        "print(f\"{nama2:12} x{jumlah2:<2} = Rp{total2}\")\n",
        "print(\"-\" * 35)\n",
        "print(f\"Total Harga   : Rp{total_harga}\")\n",
        "print(f\"Diskon ({int(diskon*100)}%) : Rp{besar_diskon}\")\n",
        "print(f\"Total Bayar   : Rp{total_bayar}\")\n",
        "print(\"-\" * 35)\n",
        "\n",
        "uang = int(input(\"Masukkan uang pembayaran: Rp \"))\n",
        "if uang >= total_bayar:\n",
        "    print(f\"Kembalian               : Rp{uang - total_bayar}\")\n",
        "    print(\"Terima kasih telah berbelanja di Kafe Gemini!\")\n",
        "else:\n",
        "    print(f\"Uang Anda kurang Rp{total_bayar - uang}\")"
      ]
    }
  ]
}