{
  "nbformat": 4,
  "nbformat_minor": 0,
  "metadata": {
    "colab": {
      "provenance": [],
      "authorship_tag": "ABX9TyOzRU37aO94H7EfIXbitXpU",
      "include_colab_link": true
    },
    "kernelspec": {
      "name": "python3",
      "display_name": "Python 3"
    },
    "language_info": {
      "name": "python"
    }
  },
  "cells": [
    {
      "cell_type": "markdown",
      "metadata": {
        "id": "view-in-github",
        "colab_type": "text"
      },
      "source": [
        "<a href=\"https://colab.research.google.com/github/TantriSeptiana/Pemerograman-Dasar/blob/main/Tugas_Pertemuan3.ipynb\" target=\"_parent\"><img src=\"https://colab.research.google.com/assets/colab-badge.svg\" alt=\"Open In Colab\"/></a>"
      ]
    },
    {
      "cell_type": "code",
      "execution_count": null,
      "metadata": {
        "colab": {
          "base_uri": "https://localhost:8080/"
        },
        "id": "NzoNGp7v2nFo",
        "outputId": "4d0fcd7c-f33d-40e8-a827-16bd1c0b153e"
      },
      "outputs": [
        {
          "output_type": "stream",
          "name": "stdout",
          "text": [
            "Tahun: 2004\n",
            "Tahun 2004 adalah Tahun Kabisat\n"
          ]
        }
      ],
      "source": [
        "tahun = int(input(\"Tahun: \"))\n",
        "kabisat = (tahun % 4 == 0 and tahun % 100 != 0) or (tahun % 400 == 0)\n",
        "hasil = (\"Bukan Tahun Kabisat\", \"Tahun Kabisat\")[kabisat]\n",
        "\n",
        "print(f\"Tahun {tahun} adalah {hasil}\")"
      ]
    },
    {
      "cell_type": "code",
      "source": [
        "# Program Konversi Suhu\n",
        "celsius_input = input(\"Celsius: \")\n",
        "\n",
        "# Konversi Suhu\n",
        "fahrenheit = (celsius * 9/5) + 32\n",
        "kelvin = celsius + 273.15\n",
        "reamur = celsius * 4/5\n",
        "\n",
        "print(f\"Celsius   : {celsius} °C\")\n",
        "print(f\"Fahrenheit: {fahrenheit} °F\")\n",
        "print(f\"Kelvin    : {kelvin} K\")\n",
        "print(f\"Reamur    : {reamur} °Re\")"
      ],
      "metadata": {
        "id": "0Djykodt9D-z",
        "colab": {
          "base_uri": "https://localhost:8080/"
        },
        "outputId": "7b160456-d9bc-4903-c637-197c44cab1ed"
      },
      "execution_count": null,
      "outputs": [
        {
          "output_type": "stream",
          "name": "stdout",
          "text": [
            "Celsius: 27.5\n",
            "Celsius   : 27.5 °C\n",
            "Fahrenheit: 81.5 °F\n",
            "Kelvin    : 300.65 K\n",
            "Reamur    : 22.0 °Re\n"
          ]
        }
      ]
    },
    {
      "cell_type": "code",
      "source": [
        "subtotal = int(input(\"Total belanja: \"))\n",
        "member = True\n",
        "diskon = (0, 0.15 * subtotal)[(member == True) and (subtotal > 100000)]\n",
        "harga_setelah_diskon = subtotal - diskon\n",
        "ppn = 0.11 * harga_setelah_diskon\n",
        "total = harga_setelah_diskon + ppn\n",
        "\n",
        "print(\"Subtotal            :Rp\", subtotal)\n",
        "print(\"Diskon              :Rp\", diskon)\n",
        "print(\"Harga setelah diskon:Rp\", harga_setelah_diskon)\n",
        "print(\"PPN 11%             :Rp\", ppn)\n",
        "print(\"Total Akhir         :Rp\", total)"
      ],
      "metadata": {
        "colab": {
          "base_uri": "https://localhost:8080/"
        },
        "id": "0KAJ1By1H7FL",
        "outputId": "53190708-3588-4da3-9d4d-63cc8c1f49f7"
      },
      "execution_count": 1,
      "outputs": [
        {
          "output_type": "stream",
          "name": "stdout",
          "text": [
            "Total belanja: 150000\n",
            "Subtotal            :Rp 150000\n",
            "Diskon              :Rp 22500.0\n",
            "Harga setelah diskon:Rp 127500.0\n",
            "PPN 11%             :Rp 14025.0\n",
            "Total Akhir         :Rp 141525.0\n"
          ]
        }
      ]
    }
  ]
}