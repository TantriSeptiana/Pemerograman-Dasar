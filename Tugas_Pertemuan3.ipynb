{
  "nbformat": 4,
  "nbformat_minor": 0,
  "metadata": {
    "colab": {
      "provenance": [],
      "authorship_tag": "ABX9TyPiknEvrO6ezO4SV1+C1zZG",
      "include_colab_link": true
    },
    "kernelspec": {
      "name": "python3",
      "display_name": "Python 3"
    },
    "language_info": {
      "name": "python"
    }
  },
  "cells": [
    {
      "cell_type": "markdown",
      "metadata": {
        "id": "view-in-github",
        "colab_type": "text"
      },
      "source": [
        "<a href=\"https://colab.research.google.com/github/TantriSeptiana/Pemerograman-Dasar/blob/main/Tugas_Pertemuan3.ipynb\" target=\"_parent\"><img src=\"https://colab.research.google.com/assets/colab-badge.svg\" alt=\"Open In Colab\"/></a>"
      ]
    },
    {
      "cell_type": "code",
      "source": [
        "subtotal = int(input(\"Total belanja: \"))\n",
        "member = True\n",
        "diskon = (0, 0.15 * subtotal)[(member == True) and (subtotal > 100000)]\n",
        "harga_setelah_diskon = subtotal - diskon\n",
        "ppn = 0.11 * harga_setelah_diskon\n",
        "total = harga_setelah_diskon + ppn\n",
        "\n",
        "print(\"Subtotal            :Rp\", subtotal)\n",
        "print(\"Diskon              :Rp\", diskon)\n",
        "print(\"Harga setelah diskon:Rp\", harga_setelah_diskon)\n",
        "print(\"PPN 11%             :Rp\", ppn)\n",
        "print(\"Total Akhir         :Rp\", total)"
      ],
      "metadata": {
        "colab": {
          "base_uri": "https://localhost:8080/"
        },
        "id": "0KAJ1By1H7FL",
        "outputId": "53190708-3588-4da3-9d4d-63cc8c1f49f7"
      },
      "execution_count": null,
      "outputs": [
        {
          "output_type": "stream",
          "name": "stdout",
          "text": [
            "Total belanja: 150000\n",
            "Subtotal            :Rp 150000\n",
            "Diskon              :Rp 22500.0\n",
            "Harga setelah diskon:Rp 127500.0\n",
            "PPN 11%             :Rp 14025.0\n",
            "Total Akhir         :Rp 141525.0\n"
          ]
        }
      ]
    }
  ]
}