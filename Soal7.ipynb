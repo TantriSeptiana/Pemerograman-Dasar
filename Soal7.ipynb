{
  "nbformat": 4,
  "nbformat_minor": 0,
  "metadata": {
    "colab": {
      "provenance": [],
      "authorship_tag": "ABX9TyOmJ3Y4HJGZTuJ/7hN8qTZr",
      "include_colab_link": true
    },
    "kernelspec": {
      "name": "python3",
      "display_name": "Python 3"
    },
    "language_info": {
      "name": "python"
    }
  },
  "cells": [
    {
      "cell_type": "markdown",
      "metadata": {
        "id": "view-in-github",
        "colab_type": "text"
      },
      "source": [
        "<a href=\"https://colab.research.google.com/github/TantriSeptiana/Pemerograman-Dasar/blob/main/Soal7.ipynb\" target=\"_parent\"><img src=\"https://colab.research.google.com/assets/colab-badge.svg\" alt=\"Open In Colab\"/></a>"
      ]
    },
    {
      "cell_type": "code",
      "execution_count": 1,
      "metadata": {
        "colab": {
          "base_uri": "https://localhost:8080/"
        },
        "id": "J2Svbn1uYsQY",
        "outputId": "578c3b32-bb1f-4c1c-85a1-11d53ef0d9ad"
      },
      "outputs": [
        {
          "output_type": "stream",
          "name": "stdout",
          "text": [
            "Biodata Saya\n",
            "Nama         : Tantri Septiana Salsabilla\n",
            "NIM          : 4232401007\n",
            "Kota asal    : Batam, Kepulauan Riau\n",
            "Tanggal lahir: 10 September 2004\n",
            "Umur         : 21\n",
            "Jurusan      : Teknik Elektro\n",
            "Prodi        : Teknologi Rekayasa Pembangkit Energi\n",
            "Semester     : 3\n",
            "Mata kuliah  : Pemerograman Dasar\n",
            "Status lulus : False\n"
          ]
        }
      ],
      "source": [
        "# Biodata dengan Annotation\n",
        "\n",
        "nama: str = \"Tantri Septiana Salsabilla\"\n",
        "nim: str = \"4232401007\"\n",
        "kota_asal: str = \"Batam, Kepulauan Riau\"\n",
        "tanggal_lahir: str = \"10 September 2004\"\n",
        "umur: int = 21\n",
        "jurusan: str = \"Teknik Elektro\"\n",
        "prodi: str = \"Teknologi Rekayasa Pembangkit Energi\"\n",
        "semester: int = 3\n",
        "mata_kuliah: str = \"Pemerograman Dasar\"\n",
        "status_lulus: bool = False\n",
        "\n",
        "print (\"Biodata Saya\")\n",
        "print (\"Nama         :\", nama)\n",
        "print (\"NIM          :\", nim)\n",
        "print (\"Kota asal    :\", kota_asal)\n",
        "print (\"Tanggal lahir:\", tanggal_lahir)\n",
        "print (\"Umur         :\", umur)\n",
        "print (\"Jurusan      :\", jurusan)\n",
        "print (\"Prodi        :\", prodi)\n",
        "print (\"Semester     :\", semester)\n",
        "print (\"Mata kuliah  :\", mata_kuliah)\n",
        "print (\"Status lulus :\", status_lulus)"
      ]
    }
  ]
}