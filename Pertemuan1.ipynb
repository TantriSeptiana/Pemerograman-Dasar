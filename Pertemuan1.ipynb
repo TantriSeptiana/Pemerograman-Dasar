{
  "nbformat": 4,
  "nbformat_minor": 0,
  "metadata": {
    "colab": {
      "provenance": [],
      "authorship_tag": "ABX9TyNqs6OfQEjgxBFDMpTXytuo",
      "include_colab_link": true
    },
    "kernelspec": {
      "name": "python3",
      "display_name": "Python 3"
    },
    "language_info": {
      "name": "python"
    }
  },
  "cells": [
    {
      "cell_type": "markdown",
      "metadata": {
        "id": "view-in-github",
        "colab_type": "text"
      },
      "source": [
        "<a href=\"https://colab.research.google.com/github/TantriSeptiana/Pemerograman-Dasar/blob/main/Pertemuan1.ipynb\" target=\"_parent\"><img src=\"https://colab.research.google.com/assets/colab-badge.svg\" alt=\"Open In Colab\"/></a>"
      ]
    },
    {
      "cell_type": "code",
      "execution_count": 1,
      "metadata": {
        "colab": {
          "base_uri": "https://localhost:8080/"
        },
        "id": "tKFgXKHHcjZ5",
        "outputId": "8f89fdc3-acd7-4d8a-ddda-9bf7460ed7f8"
      },
      "outputs": [
        {
          "output_type": "stream",
          "name": "stdout",
          "text": [
            "Biodata Saya\n",
            "Nama         : Tantri Septiana Salsabilla\n",
            "NIM          : 4232401007\n",
            "Kota asal    : Batam, Kepulauan Riau\n",
            "Tanggal lahir: 10 September 2004\n",
            "Umur         : 20\n",
            "Jurusan      : Teknik Elektro\n",
            "Prodi        : Teknologi Rekayasa Pembangkit Energi\n",
            "Semester     : 3\n",
            "Mata kuliah  : Pemerograman Dasar\n",
            "Status lulus : False\n"
          ]
        }
      ],
      "source": [
        "# Biodata Saya\n",
        "\n",
        "nama = \"Tantri Septiana Salsabilla\"\n",
        "nim = \"4232401007\"\n",
        "kota_asal = \"Batam, Kepulauan Riau\"\n",
        "tanggal_lahir = \"10 September 2004\"\n",
        "umur = 20\n",
        "jurusan = \"Teknik Elektro\"\n",
        "prodi = \"Teknologi Rekayasa Pembangkit Energi\"\n",
        "semester = 3\n",
        "mata_kuliah = \"Pemerograman Dasar\"\n",
        "status_lulus = False\n",
        "\n",
        "print (\"Biodata Saya\")\n",
        "print (\"Nama         :\", nama)\n",
        "print (\"NIM          :\", nim)\n",
        "print (\"Kota asal    :\", kota_asal)\n",
        "print (\"Tanggal lahir:\", tanggal_lahir)\n",
        "print (\"Umur         :\", umur)\n",
        "print (\"Jurusan      :\", jurusan)\n",
        "print (\"Prodi        :\", prodi)\n",
        "print (\"Semester     :\", semester)\n",
        "print (\"Mata kuliah  :\", mata_kuliah)\n",
        "print (\"Status lulus :\", status_lulus)"
      ]
    }
  ]
}