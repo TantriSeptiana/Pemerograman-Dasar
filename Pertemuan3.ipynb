{
  "nbformat": 4,
  "nbformat_minor": 0,
  "metadata": {
    "colab": {
      "provenance": [],
      "authorship_tag": "ABX9TyM84uSLAS8pdqvaoaq7lF1T",
      "include_colab_link": true
    },
    "kernelspec": {
      "name": "python3",
      "display_name": "Python 3"
    },
    "language_info": {
      "name": "python"
    }
  },
  "cells": [
    {
      "cell_type": "markdown",
      "metadata": {
        "id": "view-in-github",
        "colab_type": "text"
      },
      "source": [
        "<a href=\"https://colab.research.google.com/github/TantriSeptiana/Pemerograman-Dasar/blob/main/Pertemuan3.ipynb\" target=\"_parent\"><img src=\"https://colab.research.google.com/assets/colab-badge.svg\" alt=\"Open In Colab\"/></a>"
      ]
    },
    {
      "cell_type": "code",
      "source": [
        "total = input(\"Berapa porsi makan yang anda beli? :\")\n",
        "Nama = input(\"Siapa Nama Pelanggan? :\")"
      ],
      "metadata": {
        "colab": {
          "base_uri": "https://localhost:8080/"
        },
        "id": "egvbe4t1iUqU",
        "outputId": "cf1177c6-4b23-45e6-c486-cb5358fb162f"
      },
      "execution_count": null,
      "outputs": [
        {
          "name": "stdout",
          "output_type": "stream",
          "text": [
            "Berapa porsi makan yang anda beli? :3\n",
            "Siapa Nama Pelanggan? :Tantri\n"
          ]
        }
      ]
    },
    {
      "cell_type": "code",
      "execution_count": null,
      "metadata": {
        "colab": {
          "base_uri": "https://localhost:8080/"
        },
        "id": "IurzMLJ2d1ND",
        "outputId": "9101cbc6-2d33-45e4-ca33-9a5b0700c8ad"
      },
      "outputs": [
        {
          "name": "stdout",
          "output_type": "stream",
          "text": [
            "Berapa porsi makan yang anda beli? : 5\n",
            "Siapa Nama Pelanggan? : Tantri\n"
          ]
        }
      ],
      "source": [
        "total = float(input(\"Berapa porsi makan yang anda beli? : \"))\n",
        "Nama = str(input(\"Siapa Nama Pelanggan? : \"))"
      ]
    },
    {
      "cell_type": "code",
      "source": [
        "food = \"Kebab\"\n",
        "\n",
        "print(\"Tantri sedang memesan\", food)\n",
        "print(\"Tantri sedang memesan \"+ food)\n",
        "print(\"Tantri sedang memesan %s\" % (food))"
      ],
      "metadata": {
        "colab": {
          "base_uri": "https://localhost:8080/"
        },
        "id": "Yz3Ly5DChk4e",
        "outputId": "5733462e-8f75-499b-8a20-58e7bc0f021e"
      },
      "execution_count": null,
      "outputs": [
        {
          "output_type": "stream",
          "name": "stdout",
          "text": [
            "Tantri sedang memesan Kebab\n",
            "Tantri sedang memesan Kebab\n",
            "Tantri sedang memesan Kebab\n"
          ]
        }
      ]
    },
    {
      "cell_type": "code",
      "source": [
        "nama = \"Tantri\"\n",
        "umur = 21\n",
        "tinggi = 150.5\n",
        "nilai = 100\n",
        "\n",
        "print(\"Nama saya %s\" % (nama))\n",
        "print(\"Umur saya %d tahun\" % (umur))\n",
        "print(\"Tinggi saya %f cm\" % (tinggi))\n",
        "print(\"Nilai dalam heksadesimal %x\" % (nilai))\n",
        "print(\"Nilai dalam oktal %o\" % (nilai))"
      ],
      "metadata": {
        "colab": {
          "base_uri": "https://localhost:8080/"
        },
        "id": "SidhD8Zzl5Yb",
        "outputId": "29906d44-42f9-4652-c605-a2771ab22bd7"
      },
      "execution_count": null,
      "outputs": [
        {
          "output_type": "stream",
          "name": "stdout",
          "text": [
            "Nama saya Tantri\n",
            "Umur saya 21 tahun\n",
            "Tinggi saya 150.500000 cm\n",
            "Nilai dalam heksadesimal 64\n",
            "Nilai dalam oktal 144\n"
          ]
        }
      ]
    },
    {
      "cell_type": "code",
      "source": [
        "a = 20\n",
        "b = 5\n",
        "\n",
        "print(\"Penjumlahan:\", a + b)\n",
        "print(\"Pengurangan:\", a - b)\n",
        "print(\"Perkalian:\", a * b)\n",
        "print(\"Pembagian:\", a / b)"
      ],
      "metadata": {
        "colab": {
          "base_uri": "https://localhost:8080/"
        },
        "id": "_wCOFO85i1-A",
        "outputId": "9907bc46-9e3b-424a-eaae-ff5a98b8be25"
      },
      "execution_count": null,
      "outputs": [
        {
          "output_type": "stream",
          "name": "stdout",
          "text": [
            "Penjumlahan: 25\n",
            "Pengurangan: 15\n",
            "Perkalian: 100\n",
            "Pembagian: 4.0\n"
          ]
        }
      ]
    },
    {
      "cell_type": "code",
      "source": [
        "bilangan = 8\n",
        "hasil = (bilangan > 0) and (bilangan % 2 == 0)\n",
        "print(\"Genap dan positif?\", hasil)"
      ],
      "metadata": {
        "colab": {
          "base_uri": "https://localhost:8080/"
        },
        "id": "oK74bd6wj-EU",
        "outputId": "f7e107aa-d66d-4fcf-e61d-aea4de9e5329"
      },
      "execution_count": null,
      "outputs": [
        {
          "output_type": "stream",
          "name": "stdout",
          "text": [
            "Genap dan positif? True\n"
          ]
        }
      ]
    },
    {
      "cell_type": "code",
      "source": [
        "harga_makan = int(input(\"Berapa harga kebab yang kamu beli? \"))\n",
        "jumlah_makan = int(input(\"Berapa kebab yang kamu beli? \"))\n",
        "total_makan = harga_makan * jumlah_makan\n",
        "\n",
        "print(f\"Harga makan per porsi = {harga_makan}, totalnya adalah {total_makan}\")"
      ],
      "metadata": {
        "colab": {
          "base_uri": "https://localhost:8080/"
        },
        "id": "xVnBMS_0nGc4",
        "outputId": "40232dc4-1269-453b-c1e1-301c8ceac00b"
      },
      "execution_count": null,
      "outputs": [
        {
          "output_type": "stream",
          "name": "stdout",
          "text": [
            "Berapa harga kebab yang kamu beli? 15000\n",
            "Berapa kebab yang kamu beli? 4\n",
            "Harga makan per porsi = 15000, totalnya adalah 60000\n"
          ]
        }
      ]
    },
    {
      "cell_type": "code",
      "source": [
        "total_detik = 3600\n",
        "jam = total_detik // 3600\n",
        "sisa_detik = total_detik % 3600\n",
        "menit = sisa_detik // 6\n",
        "detik = sisa_detik % 60\n",
        "\n",
        "print(f\"Hasil konversi: {jam} Jam, {menit} Menit, {detik} Detik\")"
      ],
      "metadata": {
        "colab": {
          "base_uri": "https://localhost:8080/"
        },
        "id": "iQiBCgH-p3AC",
        "outputId": "91ab1ff1-c736-4dc6-c34c-fa7804b3f8cc"
      },
      "execution_count": null,
      "outputs": [
        {
          "output_type": "stream",
          "name": "stdout",
          "text": [
            "Hasil konversi: 1 Jam, 0 Menit, 0 Detik\n"
          ]
        }
      ]
    },
    {
      "cell_type": "code",
      "source": [
        "total_detik = int(input(\"Total detik: \"))\n",
        "jam = total_detik // 3600\n",
        "sisa_detik = total_detik % 3600\n",
        "menit = sisa_detik // 60\n",
        "detik = sisa_detik % 60\n",
        "\n",
        "print(f\"Hasil konversi: {jam} Jam, {menit} Menit, {detik} Detik\")"
      ],
      "metadata": {
        "colab": {
          "base_uri": "https://localhost:8080/"
        },
        "id": "9wUWVXJOoc4F",
        "outputId": "2ec331f4-feab-44fe-dc08-4b8cd13a188d"
      },
      "execution_count": null,
      "outputs": [
        {
          "output_type": "stream",
          "name": "stdout",
          "text": [
            "Total detik: 358200\n",
            "Hasil konversi: 99 Jam, 30 Menit, 0 Detik\n"
          ]
        }
      ]
    },
    {
      "cell_type": "code",
      "source": [
        "tugas = 80\n",
        "uts = 70\n",
        "uas = 90\n",
        "nilai_akhir = (0.3 * tugas) + (0.3 * uts) +  (0.4 * uas)\n",
        "\n",
        "print(\"Nilai akhir =\", nilai_akhir)"
      ],
      "metadata": {
        "colab": {
          "base_uri": "https://localhost:8080/"
        },
        "id": "Jgofwr3qrRnh",
        "outputId": "03d1a3b3-0d3b-44fe-c7df-279f8a6f6fd2"
      },
      "execution_count": null,
      "outputs": [
        {
          "output_type": "stream",
          "name": "stdout",
          "text": [
            "Nilai akhir = 81.0\n"
          ]
        }
      ]
    },
    {
      "cell_type": "code",
      "source": [
        "plc = int(input(\"Nilai plc: \"))\n",
        "daspro = int(input(\"Nilai daspro: \"))\n",
        "fluida = int(input(\"Nilai fluida: \"))\n",
        "pkn = int(input(\"Nilai pkn: \"))\n",
        "kimia = int(input(\"Nilai kimia: \"))\n",
        "nilai_mahasiswa = (plc + daspro + fluida + pkn + kimia) / 5\n",
        "standar_kelulusan = int(input(\"Standar kelulusan: \"))\n",
        "apakah_lulus = nilai_mahasiswa >= standar_kelulusan\n",
        "perlu_remedial = nilai_mahasiswa < standar_kelulusan\n",
        "\n",
        "print(f\"Nilai mahasiswa : {nilai_mahasiswa}\")\n",
        "print(f\"Apakah mahasiswa lulus? {apakah_lulus}\")\n",
        "print(f\"Perlu remedial? {perlu_remedial}\")"
      ],
      "metadata": {
        "colab": {
          "base_uri": "https://localhost:8080/"
        },
        "id": "RrITmAGqr9bP",
        "outputId": "9ac22e57-d45c-4e09-806d-a65648c6df05"
      },
      "execution_count": null,
      "outputs": [
        {
          "output_type": "stream",
          "name": "stdout",
          "text": [
            "Nilai plc: 90\n",
            "Nilai daspro: 85\n",
            "Nilai fluida: 80\n",
            "Nilai pkn: 95\n",
            "Nilai kimia: 80\n",
            "Standar kelulusan: 70\n",
            "Nilai mahasiswa : 86.0\n",
            "Apakah mahasiswa lulus? True\n",
            "Perlu remedial? False\n"
          ]
        }
      ]
    },
    {
      "cell_type": "code",
      "source": [
        "belanja = 850000\n",
        "diskon = (0, 0.1 * belanja)[belanja > 500000]\n",
        "total_harga = belanja - diskon\n",
        "\n",
        "print(\"Total harga setelah diskon = Rp\", total_harga)"
      ],
      "metadata": {
        "colab": {
          "base_uri": "https://localhost:8080/"
        },
        "id": "GkWc8dwt4zGw",
        "outputId": "5d83748b-08bf-4149-ccff-712e11591076"
      },
      "execution_count": null,
      "outputs": [
        {
          "output_type": "stream",
          "name": "stdout",
          "text": [
            "Total harga setelah diskon = Rp 765000.0\n"
          ]
        }
      ]
    },
    {
      "cell_type": "code",
      "source": [
        "belanja = int(input(\"Total belanja: \"))\n",
        "diskon = (0, 0.35 * belanja)[belanja > 1000000]\n",
        "total_harga = belanja - diskon\n",
        "\n",
        "print(\"Total harga setelah diskon = Rp\", total_harga)"
      ],
      "metadata": {
        "colab": {
          "base_uri": "https://localhost:8080/"
        },
        "id": "1pZd_sf5tmoG",
        "outputId": "4120fd95-bf22-4aa5-af00-40f2ca07db2d"
      },
      "execution_count": null,
      "outputs": [
        {
          "output_type": "stream",
          "name": "stdout",
          "text": [
            "Total belanja: 2000000\n",
            "Total harga setelah diskon = Rp 1300000.0\n"
          ]
        }
      ]
    }
  ]
}