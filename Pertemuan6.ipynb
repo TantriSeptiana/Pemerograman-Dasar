{
  "nbformat": 4,
  "nbformat_minor": 0,
  "metadata": {
    "colab": {
      "provenance": [],
      "authorship_tag": "ABX9TyMpTeyzrIXCiIj01LTw60SW",
      "include_colab_link": true
    },
    "kernelspec": {
      "name": "python3",
      "display_name": "Python 3"
    },
    "language_info": {
      "name": "python"
    }
  },
  "cells": [
    {
      "cell_type": "markdown",
      "metadata": {
        "id": "view-in-github",
        "colab_type": "text"
      },
      "source": [
        "<a href=\"https://colab.research.google.com/github/TantriSeptiana/Pemerograman-Dasar/blob/main/Pertemuan6.ipynb\" target=\"_parent\"><img src=\"https://colab.research.google.com/assets/colab-badge.svg\" alt=\"Open In Colab\"/></a>"
      ]
    },
    {
      "cell_type": "code",
      "execution_count": 9,
      "metadata": {
        "colab": {
          "base_uri": "https://localhost:8080/"
        },
        "id": "KQqKtLblBxiK",
        "outputId": "db2342a3-e2a1-4185-99cd-7725decfa7a0"
      },
      "outputs": [
        {
          "output_type": "stream",
          "name": "stdout",
          "text": [
            "=== SISTEM DATA PERPUSTAKAAN ===\n",
            "1. Lihat Daftar Buku\n",
            "2. Cek Buku Favorit\n",
            "Pilih menu (1/2): 1\n",
            "\n",
            "Daftar Buku:\n",
            "- Laskar Pelangi (Novel) | Stok: 5 | Aktif: True\n",
            "- Naruto (Komik) | Stok: 3 | Aktif: True\n",
            "- Fisika Dasar (Pelajaran) | Stok: 2 | Aktif: True\n"
          ]
        }
      ],
      "source": [
        "# Program Sederhana Data Buku Perpustakaan\n",
        "\n",
        "daftar_buku = [\n",
        "    {\"judul\": \"Laskar Pelangi\", \"stok\": 5, \"kategori\": \"Novel\"},\n",
        "    {\"judul\": \"Naruto\", \"stok\": 3, \"kategori\": \"Komik\"},\n",
        "    {\"judul\": \"Fisika Dasar\", \"stok\": 2, \"kategori\": \"Pelajaran\"}\n",
        "]\n",
        "\n",
        "kategori_buku = (\"Novel\", \"Pelajaran\", \"Komik\")\n",
        "buku_favorit = {\"Laskar Pelangi\", \"Naruto\"}\n",
        "stok_buku = {\"Laskar Pelangi\": 5, \"Naruto\": 3, \"Fisika Dasar\": 2}\n",
        "\n",
        "print(\"=== SISTEM DATA PERPUSTAKAAN ===\")\n",
        "print(\"1. Lihat Daftar Buku\")\n",
        "print(\"2. Cek Buku Favorit\")\n",
        "\n",
        "pilihan = input(\"Pilih menu (1/2): \")\n",
        "\n",
        "# Percabangan\n",
        "if pilihan == \"1\":\n",
        "    print(\"\\nDaftar Buku:\")\n",
        "    for buku in daftar_buku:\n",
        "        aktif = True\n",
        "        print(f\"- {buku['judul']} ({buku['kategori']}) | Stok: {buku['stok']} | Aktif: {aktif}\")\n",
        "\n",
        "elif pilihan == \"2\":\n",
        "    judul = input(\"Masukkan judul buku: \")\n",
        "    if judul in buku_favorit:\n",
        "        print(f\"Buku '{judul}' adalah buku favorit!\")\n",
        "    elif judul in stok_buku:\n",
        "        print(f\"Buku '{judul}' tersedia, tapi bukan favorit.\")\n",
        "    else:\n",
        "        print(\"Buku tidak ditemukan!\")\n",
        "\n",
        "else:\n",
        "    print(\"Pilihan tidak valid.\")"
      ]
    }
  ]
}