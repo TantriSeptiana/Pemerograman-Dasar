{
  "nbformat": 4,
  "nbformat_minor": 0,
  "metadata": {
    "colab": {
      "provenance": [],
      "authorship_tag": "ABX9TyPBp2kGpDPBixYTd4AbBDol",
      "include_colab_link": true
    },
    "kernelspec": {
      "name": "python3",
      "display_name": "Python 3"
    },
    "language_info": {
      "name": "python"
    }
  },
  "cells": [
    {
      "cell_type": "markdown",
      "metadata": {
        "id": "view-in-github",
        "colab_type": "text"
      },
      "source": [
        "<a href=\"https://colab.research.google.com/github/TantriSeptiana/Pemerograman-Dasar/blob/main/Latihan_Pertemuan3.ipynb\" target=\"_parent\"><img src=\"https://colab.research.google.com/assets/colab-badge.svg\" alt=\"Open In Colab\"/></a>"
      ]
    },
    {
      "cell_type": "code",
      "execution_count": 5,
      "metadata": {
        "colab": {
          "base_uri": "https://localhost:8080/"
        },
        "id": "pIeaJT8s91Y5",
        "outputId": "b5094228-b612-476b-a93e-4759be9e1277"
      },
      "outputs": [
        {
          "output_type": "stream",
          "name": "stdout",
          "text": [
            "Tahun: 2004\n",
            "Tahun 2004 adalah Tahun Kabisat\n"
          ]
        }
      ],
      "source": [
        "tahun = int(input(\"Tahun: \"))\n",
        "kabisat = (tahun % 4 == 0 and tahun % 100 != 0) or (tahun % 400 == 0)\n",
        "hasil = (\"Bukan Tahun Kabisat\", \"Tahun Kabisat\")[kabisat]\n",
        "\n",
        "print(f\"Tahun {tahun} adalah {hasil}\")"
      ]
    },
    {
      "cell_type": "code",
      "source": [
        "# Program Konversi Suhu\n",
        "celsius_input = input(\"Celsius: \")\n",
        "\n",
        "# Konversi Suhu\n",
        "celsius = float(celsius_input)\n",
        "fahrenheit = (celsius * 9/5) + 32\n",
        "kelvin = celsius + 273.15\n",
        "reamur = celsius * 4/5\n",
        "\n",
        "print(f\"Celsius   : {celsius} °C\")\n",
        "print(f\"Fahrenheit: {fahrenheit} °F\")\n",
        "print(f\"Kelvin    : {kelvin} K\")\n",
        "print(f\"Reamur    : {reamur} °Re\")"
      ],
      "metadata": {
        "colab": {
          "base_uri": "https://localhost:8080/"
        },
        "id": "ve7n2C26-CtG",
        "outputId": "dae6eb57-63b4-4492-a108-b7944569a4c3"
      },
      "execution_count": 6,
      "outputs": [
        {
          "output_type": "stream",
          "name": "stdout",
          "text": [
            "Celsius: 27.5\n",
            "Celsius   : 27.5 °C\n",
            "Fahrenheit: 81.5 °F\n",
            "Kelvin    : 300.65 K\n",
            "Reamur    : 22.0 °Re\n"
          ]
        }
      ]
    }
  ]
}