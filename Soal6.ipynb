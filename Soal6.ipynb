{
  "nbformat": 4,
  "nbformat_minor": 0,
  "metadata": {
    "colab": {
      "provenance": [],
      "authorship_tag": "ABX9TyPbrq4yfOjXz8fcgPZA+RCB",
      "include_colab_link": true
    },
    "kernelspec": {
      "name": "python3",
      "display_name": "Python 3"
    },
    "language_info": {
      "name": "python"
    }
  },
  "cells": [
    {
      "cell_type": "markdown",
      "metadata": {
        "id": "view-in-github",
        "colab_type": "text"
      },
      "source": [
        "<a href=\"https://colab.research.google.com/github/TantriSeptiana/Pemerograman-Dasar/blob/main/Soal6.ipynb\" target=\"_parent\"><img src=\"https://colab.research.google.com/assets/colab-badge.svg\" alt=\"Open In Colab\"/></a>"
      ]
    },
    {
      "cell_type": "code",
      "execution_count": null,
      "metadata": {
        "colab": {
          "base_uri": "https://localhost:8080/"
        },
        "id": "sni5V7u4LYxI",
        "outputId": "10dc706b-187b-481a-923e-359f252b09d2"
      },
      "outputs": [
        {
          "output_type": "stream",
          "name": "stdout",
          "text": [
            "Biodata Saya\n",
            "Nama         : Tantri Septiana Salsabilla\n",
            "NIM          : 4232401007\n",
            "Nomor Telepon: {'085900229219'}\n",
            "Tanggal lahir: 10 September 2004\n",
            "Umur         : 21\n",
            "Jurusan      : Teknik Elektro\n",
            "Prodi        : Teknologi Rekayasa Pembangkit Energi\n",
            "Semester     : 3\n",
            "Mata kuliah  : ['Pemerograman Dasar', 'Perpindahan Panas', 'Programmable Logic Controller']\n"
          ]
        }
      ],
      "source": [
        "# Implementasi Biodata dengan Tipe Data Non-Primitif\n",
        "\n",
        "# List\n",
        "mata_kuliah = [\"Pemerograman Dasar\", \"Perpindahan Panas\", \"Programmable Logic Controller\"]\n",
        "\n",
        "# Tuple\n",
        "tanggal_lahir = (\"10 September 2004\")\n",
        "\n",
        "# Set\n",
        "nomor_telepon = {\"085900229219\"}\n",
        "\n",
        "# Dictionary\n",
        "nama = \"Tantri Septiana Salsabilla\"\n",
        "nim = \"4232401007\"\n",
        "umur = 21\n",
        "jurusan = \"Teknik Elektro\"\n",
        "prodi = \"Teknologi Rekayasa Pembangkit Energi\"\n",
        "semester = 3\n",
        "\n",
        "print (\"Biodata Saya\")\n",
        "print (\"Nama         :\", nama)\n",
        "print (\"NIM          :\", nim)\n",
        "print (\"Nomor Telepon:\", nomor_telepon)\n",
        "print (\"Tanggal lahir:\", tanggal_lahir)\n",
        "print (\"Umur         :\", umur)\n",
        "print (\"Jurusan      :\", jurusan)\n",
        "print (\"Prodi        :\", prodi)\n",
        "print (\"Semester     :\", semester)\n",
        "print (\"Mata kuliah  :\", mata_kuliah)"
      ]
    }
  ]
}